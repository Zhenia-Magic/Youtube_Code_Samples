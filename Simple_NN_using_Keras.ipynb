{
 "cells": [
  {
   "cell_type": "code",
   "execution_count": null,
   "metadata": {},
   "outputs": [],
   "source": [
    "# !pip install tensorflow\n",
    "from tensorflow import keras\n",
    "from sklearn.model_selection import train_test_split\n",
    "from tensorflow.keras.models import Sequential\n",
    "from tensorflow.keras.layers import Dense\n",
    "import pandas as pd\n",
    "from sklearn.metrics import classification_report"
   ]
  },
  {
   "cell_type": "code",
   "execution_count": 50,
   "metadata": {},
   "outputs": [
    {
     "data": {
      "text/html": [
       "<div>\n",
       "<style scoped>\n",
       "    .dataframe tbody tr th:only-of-type {\n",
       "        vertical-align: middle;\n",
       "    }\n",
       "\n",
       "    .dataframe tbody tr th {\n",
       "        vertical-align: top;\n",
       "    }\n",
       "\n",
       "    .dataframe thead th {\n",
       "        text-align: right;\n",
       "    }\n",
       "</style>\n",
       "<table border=\"1\" class=\"dataframe\">\n",
       "  <thead>\n",
       "    <tr style=\"text-align: right;\">\n",
       "      <th></th>\n",
       "      <th>Clump Thickness</th>\n",
       "      <th>Uniformity of Cell Size</th>\n",
       "      <th>Uniformity of Cell Shape</th>\n",
       "      <th>Marginal Adhesion</th>\n",
       "      <th>Single Epithelial Cell Size</th>\n",
       "      <th>Bare Nuclei</th>\n",
       "      <th>Bland Chromatin</th>\n",
       "      <th>Normal Nucleoli</th>\n",
       "      <th>Mitoses</th>\n",
       "      <th>Class</th>\n",
       "    </tr>\n",
       "  </thead>\n",
       "  <tbody>\n",
       "    <tr>\n",
       "      <th>0</th>\n",
       "      <td>5</td>\n",
       "      <td>1</td>\n",
       "      <td>1</td>\n",
       "      <td>1</td>\n",
       "      <td>2</td>\n",
       "      <td>1.0</td>\n",
       "      <td>3</td>\n",
       "      <td>1</td>\n",
       "      <td>1</td>\n",
       "      <td>0</td>\n",
       "    </tr>\n",
       "    <tr>\n",
       "      <th>1</th>\n",
       "      <td>5</td>\n",
       "      <td>4</td>\n",
       "      <td>4</td>\n",
       "      <td>5</td>\n",
       "      <td>7</td>\n",
       "      <td>10.0</td>\n",
       "      <td>3</td>\n",
       "      <td>2</td>\n",
       "      <td>1</td>\n",
       "      <td>0</td>\n",
       "    </tr>\n",
       "    <tr>\n",
       "      <th>2</th>\n",
       "      <td>3</td>\n",
       "      <td>1</td>\n",
       "      <td>1</td>\n",
       "      <td>1</td>\n",
       "      <td>2</td>\n",
       "      <td>2.0</td>\n",
       "      <td>3</td>\n",
       "      <td>1</td>\n",
       "      <td>1</td>\n",
       "      <td>0</td>\n",
       "    </tr>\n",
       "    <tr>\n",
       "      <th>3</th>\n",
       "      <td>6</td>\n",
       "      <td>8</td>\n",
       "      <td>8</td>\n",
       "      <td>1</td>\n",
       "      <td>3</td>\n",
       "      <td>4.0</td>\n",
       "      <td>3</td>\n",
       "      <td>7</td>\n",
       "      <td>1</td>\n",
       "      <td>0</td>\n",
       "    </tr>\n",
       "    <tr>\n",
       "      <th>4</th>\n",
       "      <td>4</td>\n",
       "      <td>1</td>\n",
       "      <td>1</td>\n",
       "      <td>3</td>\n",
       "      <td>2</td>\n",
       "      <td>1.0</td>\n",
       "      <td>3</td>\n",
       "      <td>1</td>\n",
       "      <td>1</td>\n",
       "      <td>0</td>\n",
       "    </tr>\n",
       "    <tr>\n",
       "      <th>...</th>\n",
       "      <td>...</td>\n",
       "      <td>...</td>\n",
       "      <td>...</td>\n",
       "      <td>...</td>\n",
       "      <td>...</td>\n",
       "      <td>...</td>\n",
       "      <td>...</td>\n",
       "      <td>...</td>\n",
       "      <td>...</td>\n",
       "      <td>...</td>\n",
       "    </tr>\n",
       "    <tr>\n",
       "      <th>694</th>\n",
       "      <td>3</td>\n",
       "      <td>1</td>\n",
       "      <td>1</td>\n",
       "      <td>1</td>\n",
       "      <td>3</td>\n",
       "      <td>2.0</td>\n",
       "      <td>1</td>\n",
       "      <td>1</td>\n",
       "      <td>1</td>\n",
       "      <td>0</td>\n",
       "    </tr>\n",
       "    <tr>\n",
       "      <th>695</th>\n",
       "      <td>2</td>\n",
       "      <td>1</td>\n",
       "      <td>1</td>\n",
       "      <td>1</td>\n",
       "      <td>2</td>\n",
       "      <td>1.0</td>\n",
       "      <td>1</td>\n",
       "      <td>1</td>\n",
       "      <td>1</td>\n",
       "      <td>0</td>\n",
       "    </tr>\n",
       "    <tr>\n",
       "      <th>696</th>\n",
       "      <td>5</td>\n",
       "      <td>10</td>\n",
       "      <td>10</td>\n",
       "      <td>3</td>\n",
       "      <td>7</td>\n",
       "      <td>3.0</td>\n",
       "      <td>8</td>\n",
       "      <td>10</td>\n",
       "      <td>2</td>\n",
       "      <td>1</td>\n",
       "    </tr>\n",
       "    <tr>\n",
       "      <th>697</th>\n",
       "      <td>4</td>\n",
       "      <td>8</td>\n",
       "      <td>6</td>\n",
       "      <td>4</td>\n",
       "      <td>3</td>\n",
       "      <td>4.0</td>\n",
       "      <td>10</td>\n",
       "      <td>6</td>\n",
       "      <td>1</td>\n",
       "      <td>1</td>\n",
       "    </tr>\n",
       "    <tr>\n",
       "      <th>698</th>\n",
       "      <td>4</td>\n",
       "      <td>8</td>\n",
       "      <td>8</td>\n",
       "      <td>5</td>\n",
       "      <td>4</td>\n",
       "      <td>5.0</td>\n",
       "      <td>10</td>\n",
       "      <td>4</td>\n",
       "      <td>1</td>\n",
       "      <td>1</td>\n",
       "    </tr>\n",
       "  </tbody>\n",
       "</table>\n",
       "<p>699 rows × 10 columns</p>\n",
       "</div>"
      ],
      "text/plain": [
       "     Clump Thickness  Uniformity of Cell Size  Uniformity of Cell Shape  \\\n",
       "0                  5                        1                         1   \n",
       "1                  5                        4                         4   \n",
       "2                  3                        1                         1   \n",
       "3                  6                        8                         8   \n",
       "4                  4                        1                         1   \n",
       "..               ...                      ...                       ...   \n",
       "694                3                        1                         1   \n",
       "695                2                        1                         1   \n",
       "696                5                       10                        10   \n",
       "697                4                        8                         6   \n",
       "698                4                        8                         8   \n",
       "\n",
       "     Marginal Adhesion  Single Epithelial Cell Size  Bare Nuclei  \\\n",
       "0                    1                            2          1.0   \n",
       "1                    5                            7         10.0   \n",
       "2                    1                            2          2.0   \n",
       "3                    1                            3          4.0   \n",
       "4                    3                            2          1.0   \n",
       "..                 ...                          ...          ...   \n",
       "694                  1                            3          2.0   \n",
       "695                  1                            2          1.0   \n",
       "696                  3                            7          3.0   \n",
       "697                  4                            3          4.0   \n",
       "698                  5                            4          5.0   \n",
       "\n",
       "     Bland Chromatin  Normal Nucleoli  Mitoses  Class  \n",
       "0                  3                1        1      0  \n",
       "1                  3                2        1      0  \n",
       "2                  3                1        1      0  \n",
       "3                  3                7        1      0  \n",
       "4                  3                1        1      0  \n",
       "..               ...              ...      ...    ...  \n",
       "694                1                1        1      0  \n",
       "695                1                1        1      0  \n",
       "696                8               10        2      1  \n",
       "697               10                6        1      1  \n",
       "698               10                4        1      1  \n",
       "\n",
       "[699 rows x 10 columns]"
      ]
     },
     "execution_count": 50,
     "metadata": {},
     "output_type": "execute_result"
    }
   ],
   "source": [
    "df = pd.read_csv('breast_cancer_data.csv', na_values = '?')\n",
    "del df['Unnamed: 0']\n",
    "df"
   ]
  },
  {
   "cell_type": "code",
   "execution_count": 51,
   "metadata": {},
   "outputs": [],
   "source": [
    "df = df.dropna()"
   ]
  },
  {
   "cell_type": "code",
   "execution_count": 52,
   "metadata": {},
   "outputs": [],
   "source": [
    "X = df.drop('Class', axis = 1).values\n",
    "Y = df['Class'].values"
   ]
  },
  {
   "cell_type": "code",
   "execution_count": 53,
   "metadata": {},
   "outputs": [],
   "source": [
    "x_train, x_test, y_train, y_test = train_test_split(X, Y, test_size = 0.2, random_state = 109)"
   ]
  },
  {
   "cell_type": "code",
   "execution_count": 54,
   "metadata": {},
   "outputs": [
    {
     "data": {
      "text/plain": [
       "array([[ 5.,  1.,  3., ...,  2.,  3.,  1.],\n",
       "       [ 3.,  1.,  2., ...,  2.,  1.,  1.],\n",
       "       [ 4.,  2.,  4., ...,  2.,  1.,  1.],\n",
       "       ...,\n",
       "       [ 2.,  1.,  1., ...,  2.,  1.,  1.],\n",
       "       [ 6., 10., 10., ...,  7.,  3.,  3.],\n",
       "       [ 8.,  4.,  7., ...,  3.,  9.,  2.]])"
      ]
     },
     "execution_count": 54,
     "metadata": {},
     "output_type": "execute_result"
    }
   ],
   "source": [
    "x_train"
   ]
  },
  {
   "cell_type": "code",
   "execution_count": 58,
   "metadata": {},
   "outputs": [
    {
     "name": "stdout",
     "output_type": "stream",
     "text": [
      "Model: \"sequential_2\"\n",
      "_________________________________________________________________\n",
      "Layer (type)                 Output Shape              Param #   \n",
      "=================================================================\n",
      "dense_6 (Dense)              (None, 8)                 80        \n",
      "_________________________________________________________________\n",
      "dense_7 (Dense)              (None, 4)                 36        \n",
      "_________________________________________________________________\n",
      "dense_8 (Dense)              (None, 1)                 5         \n",
      "=================================================================\n",
      "Total params: 121\n",
      "Trainable params: 121\n",
      "Non-trainable params: 0\n",
      "_________________________________________________________________\n"
     ]
    }
   ],
   "source": [
    "model = Sequential()\n",
    "model.add(Dense(8, input_dim = 9, activation = 'relu'))\n",
    "model.add(Dense(4, activation = 'relu'))\n",
    "model.add(Dense(1, activation = 'sigmoid'))\n",
    "model.summary()"
   ]
  },
  {
   "cell_type": "code",
   "execution_count": 59,
   "metadata": {},
   "outputs": [],
   "source": [
    "model.compile(optimizer = 'adam', loss = 'binary_crossentropy', metrics = ['accuracy', 'AUC'])"
   ]
  },
  {
   "cell_type": "code",
   "execution_count": 60,
   "metadata": {},
   "outputs": [
    {
     "name": "stdout",
     "output_type": "stream",
     "text": [
      "Epoch 1/30\n",
      "18/18 [==============================] - 0s 12ms/step - loss: 2.7348 - accuracy: 0.6429 - auc: 0.1022 - val_loss: 1.8042 - val_accuracy: 0.5985 - val_auc: 0.1644\n",
      "Epoch 2/30\n",
      "18/18 [==============================] - 0s 2ms/step - loss: 1.6346 - accuracy: 0.5806 - auc: 0.2368 - val_loss: 0.9561 - val_accuracy: 0.5620 - val_auc: 0.4775\n",
      "Epoch 3/30\n",
      "18/18 [==============================] - 0s 2ms/step - loss: 0.9907 - accuracy: 0.5568 - auc: 0.4980 - val_loss: 0.7073 - val_accuracy: 0.6204 - val_auc: 0.7292\n",
      "Epoch 4/30\n",
      "18/18 [==============================] - 0s 2ms/step - loss: 0.8206 - accuracy: 0.5678 - auc: 0.6921 - val_loss: 0.6765 - val_accuracy: 0.6423 - val_auc: 0.8217\n",
      "Epoch 5/30\n",
      "18/18 [==============================] - 0s 3ms/step - loss: 0.7715 - accuracy: 0.5549 - auc: 0.7635 - val_loss: 0.6511 - val_accuracy: 0.6423 - val_auc: 0.8416\n",
      "Epoch 6/30\n",
      "18/18 [==============================] - 0s 2ms/step - loss: 0.7362 - accuracy: 0.5751 - auc: 0.7848 - val_loss: 0.6211 - val_accuracy: 0.6569 - val_auc: 0.8488\n",
      "Epoch 7/30\n",
      "18/18 [==============================] - 0s 2ms/step - loss: 0.6996 - accuracy: 0.6007 - auc: 0.7896 - val_loss: 0.5873 - val_accuracy: 0.6642 - val_auc: 0.8502\n",
      "Epoch 8/30\n",
      "18/18 [==============================] - 0s 2ms/step - loss: 0.6636 - accuracy: 0.6245 - auc: 0.7928 - val_loss: 0.5558 - val_accuracy: 0.6861 - val_auc: 0.8546\n",
      "Epoch 9/30\n",
      "18/18 [==============================] - 0s 2ms/step - loss: 0.6295 - accuracy: 0.6520 - auc: 0.8049 - val_loss: 0.5291 - val_accuracy: 0.7007 - val_auc: 0.8701\n",
      "Epoch 10/30\n",
      "18/18 [==============================] - 0s 2ms/step - loss: 0.5961 - accuracy: 0.6813 - auc: 0.8200 - val_loss: 0.5042 - val_accuracy: 0.7299 - val_auc: 0.8857\n",
      "Epoch 11/30\n",
      "18/18 [==============================] - 0s 2ms/step - loss: 0.5679 - accuracy: 0.6923 - auc: 0.8374 - val_loss: 0.4851 - val_accuracy: 0.7372 - val_auc: 0.8997\n",
      "Epoch 12/30\n",
      "18/18 [==============================] - 0s 2ms/step - loss: 0.5408 - accuracy: 0.7161 - auc: 0.8547 - val_loss: 0.4652 - val_accuracy: 0.7591 - val_auc: 0.9112\n",
      "Epoch 13/30\n",
      "18/18 [==============================] - 0s 2ms/step - loss: 0.5193 - accuracy: 0.7253 - auc: 0.8914 - val_loss: 0.4640 - val_accuracy: 0.7518 - val_auc: 0.9330\n",
      "Epoch 14/30\n",
      "18/18 [==============================] - 0s 2ms/step - loss: 0.4992 - accuracy: 0.7344 - auc: 0.9060 - val_loss: 0.4389 - val_accuracy: 0.8248 - val_auc: 0.9310\n",
      "Epoch 15/30\n",
      "18/18 [==============================] - 0s 2ms/step - loss: 0.4744 - accuracy: 0.7949 - auc: 0.9015 - val_loss: 0.4141 - val_accuracy: 0.8613 - val_auc: 0.9275\n",
      "Epoch 16/30\n",
      "18/18 [==============================] - 0s 2ms/step - loss: 0.4521 - accuracy: 0.8223 - auc: 0.9009 - val_loss: 0.3961 - val_accuracy: 0.8613 - val_auc: 0.9298\n",
      "Epoch 17/30\n",
      "18/18 [==============================] - 0s 2ms/step - loss: 0.4322 - accuracy: 0.8516 - auc: 0.9068 - val_loss: 0.3801 - val_accuracy: 0.8832 - val_auc: 0.9300\n",
      "Epoch 18/30\n",
      "18/18 [==============================] - 0s 2ms/step - loss: 0.4146 - accuracy: 0.8828 - auc: 0.9127 - val_loss: 0.3675 - val_accuracy: 0.8905 - val_auc: 0.9310\n",
      "Epoch 19/30\n",
      "18/18 [==============================] - 0s 2ms/step - loss: 0.3977 - accuracy: 0.8864 - auc: 0.9195 - val_loss: 0.3554 - val_accuracy: 0.8978 - val_auc: 0.9347\n",
      "Epoch 20/30\n",
      "18/18 [==============================] - 0s 2ms/step - loss: 0.3831 - accuracy: 0.8993 - auc: 0.9327 - val_loss: 0.3492 - val_accuracy: 0.8978 - val_auc: 0.9419\n",
      "Epoch 21/30\n",
      "18/18 [==============================] - 0s 2ms/step - loss: 0.3685 - accuracy: 0.9048 - auc: 0.9380 - val_loss: 0.3355 - val_accuracy: 0.8978 - val_auc: 0.9420\n",
      "Epoch 22/30\n",
      "18/18 [==============================] - 0s 2ms/step - loss: 0.3554 - accuracy: 0.9084 - auc: 0.9370 - val_loss: 0.3238 - val_accuracy: 0.8978 - val_auc: 0.9409\n",
      "Epoch 23/30\n",
      "18/18 [==============================] - 0s 2ms/step - loss: 0.3438 - accuracy: 0.9139 - auc: 0.9400 - val_loss: 0.3157 - val_accuracy: 0.9051 - val_auc: 0.9455\n",
      "Epoch 24/30\n",
      "18/18 [==============================] - 0s 2ms/step - loss: 0.3315 - accuracy: 0.9176 - auc: 0.9428 - val_loss: 0.3048 - val_accuracy: 0.9051 - val_auc: 0.9462\n",
      "Epoch 25/30\n",
      "18/18 [==============================] - 0s 2ms/step - loss: 0.3208 - accuracy: 0.9121 - auc: 0.9421 - val_loss: 0.2938 - val_accuracy: 0.9124 - val_auc: 0.9463\n",
      "Epoch 26/30\n",
      "18/18 [==============================] - 0s 3ms/step - loss: 0.3089 - accuracy: 0.9176 - auc: 0.9438 - val_loss: 0.2858 - val_accuracy: 0.9124 - val_auc: 0.9476\n",
      "Epoch 27/30\n",
      "18/18 [==============================] - 0s 2ms/step - loss: 0.3005 - accuracy: 0.9249 - auc: 0.9509 - val_loss: 0.2810 - val_accuracy: 0.9051 - val_auc: 0.9515\n",
      "Epoch 28/30\n",
      "18/18 [==============================] - 0s 2ms/step - loss: 0.2882 - accuracy: 0.9249 - auc: 0.9536 - val_loss: 0.2705 - val_accuracy: 0.9197 - val_auc: 0.9503\n",
      "Epoch 29/30\n",
      "18/18 [==============================] - 0s 2ms/step - loss: 0.2789 - accuracy: 0.9286 - auc: 0.9521 - val_loss: 0.2623 - val_accuracy: 0.9343 - val_auc: 0.9514\n",
      "Epoch 30/30\n",
      "18/18 [==============================] - 0s 2ms/step - loss: 0.2708 - accuracy: 0.9322 - auc: 0.9529 - val_loss: 0.2556 - val_accuracy: 0.9343 - val_auc: 0.9535\n"
     ]
    },
    {
     "data": {
      "text/plain": [
       "<tensorflow.python.keras.callbacks.History at 0x7fd8e0a2b0a0>"
      ]
     },
     "execution_count": 60,
     "metadata": {},
     "output_type": "execute_result"
    }
   ],
   "source": [
    "model.fit(x_train, y_train, validation_data = (x_test, y_test), epochs = 30, batch_size = 32)"
   ]
  },
  {
   "cell_type": "code",
   "execution_count": 67,
   "metadata": {},
   "outputs": [
    {
     "name": "stdout",
     "output_type": "stream",
     "text": [
      "WARNING:tensorflow:From <ipython-input-67-bae1a118294d>:1: Sequential.predict_classes (from tensorflow.python.keras.engine.sequential) is deprecated and will be removed after 2021-01-01.\n",
      "Instructions for updating:\n",
      "Please use instead:* `np.argmax(model.predict(x), axis=-1)`,   if your model does multi-class classification   (e.g. if it uses a `softmax` last-layer activation).* `(model.predict(x) > 0.5).astype(\"int32\")`,   if your model does binary classification   (e.g. if it uses a `sigmoid` last-layer activation).\n"
     ]
    }
   ],
   "source": [
    "y_pred = model.predict_classes(x_test)"
   ]
  },
  {
   "cell_type": "code",
   "execution_count": 72,
   "metadata": {},
   "outputs": [
    {
     "name": "stdout",
     "output_type": "stream",
     "text": [
      "              precision    recall  f1-score   support\n",
      "\n",
      "           0       0.95      0.94      0.95        88\n",
      "           1       0.90      0.92      0.91        49\n",
      "\n",
      "    accuracy                           0.93       137\n",
      "   macro avg       0.93      0.93      0.93       137\n",
      "weighted avg       0.93      0.93      0.93       137\n",
      "\n"
     ]
    }
   ],
   "source": [
    "print(classification_report(y_test, y_pred))"
   ]
  }
 ],
 "metadata": {
  "kernelspec": {
   "display_name": "Python 3",
   "language": "python",
   "name": "python3"
  },
  "language_info": {
   "codemirror_mode": {
    "name": "ipython",
    "version": 3
   },
   "file_extension": ".py",
   "mimetype": "text/x-python",
   "name": "python",
   "nbconvert_exporter": "python",
   "pygments_lexer": "ipython3",
   "version": "3.8.3"
  }
 },
 "nbformat": 4,
 "nbformat_minor": 4
}
